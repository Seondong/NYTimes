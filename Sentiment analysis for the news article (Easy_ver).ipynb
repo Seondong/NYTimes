{
 "cells": [
  {
   "cell_type": "markdown",
   "metadata": {},
   "source": [
    "### Sentiment Analysis for doc file (Easy_ver)\n",
    "\n",
    "* Sentiment analysis for New-York Times Articles(.doc)\n",
    "* Date: June 16th, 2016 - Current\n",
    "* Sundong Kim(sundong.kim@kaist.ac.kr)"
   ]
  },
  {
   "cell_type": "code",
   "execution_count": 11,
   "metadata": {
    "collapsed": true
   },
   "outputs": [],
   "source": [
    "import nltk\n",
    "from nltk.sentiment.vader import SentimentIntensityAnalyzer\n",
    "import docx as docx\n",
    "from pyth.plugins.rtf15.reader import Rtf15Reader\n",
    "from pyth.plugins.plaintext.writer import PlaintextWriter\n",
    "import re\n",
    "import os\n",
    "import sys"
   ]
  },
  {
   "cell_type": "code",
   "execution_count": 2,
   "metadata": {
    "collapsed": true
   },
   "outputs": [],
   "source": [
    "sent_inten_analyzer = SentimentIntensityAnalyzer()\n",
    "shortword = re.compile(r'\\W*\\b\\w{25,100000}\\b')"
   ]
  },
  {
   "cell_type": "code",
   "execution_count": 25,
   "metadata": {
    "collapsed": true
   },
   "outputs": [],
   "source": [
    "def articleToSentiment(file):\n",
    "    article_RTF = Rtf15Reader.read(open(file))\n",
    "    article_plain_text = PlaintextWriter.write(article_RTF).getvalue()\n",
    "    article_cleared = shortword.sub('', article_plain_text)\n",
    "    sentiments = sent_inten_analyzer.polarity_scores(article_cleared)\n",
    "    return sentiments"
   ]
  },
  {
   "cell_type": "code",
   "execution_count": 24,
   "metadata": {
    "collapsed": false
   },
   "outputs": [
    {
     "name": "stdout",
     "output_type": "stream",
     "text": [
      "./Factiva/.DS_Store\n",
      "('Unexpected error:', <class 'pyth.errors.WrongFileType'>)\n",
      "./Factiva/Korean/Factiva-20160528-2249.rtf\n",
      "{'neg': 0.087, 'neu': 0.803, 'pos': 0.11, 'compound': 0.9996}\n",
      "./Factiva/Korean/Factiva-20160528-2250 (1).rtf\n",
      "{'neg': 0.095, 'neu': 0.798, 'pos': 0.106, 'compound': 0.9983}\n",
      "./Factiva/US/Factiva-20160528-2250.rtf\n",
      "{'neg': 0.115, 'neu': 0.772, 'pos': 0.113, 'compound': -0.9968}\n",
      "./Factiva/US/Factiva-20160528-2251.rtf\n",
      "{'neg': 0.122, 'neu': 0.778, 'pos': 0.1, 'compound': -0.9998}\n",
      "./Factiva/US/Factiva-20160528-2252.rtf\n",
      "{'neg': 0.115, 'neu': 0.765, 'pos': 0.12, 'compound': 0.8866}\n"
     ]
    }
   ],
   "source": [
    "root_dir = './Factiva/'\n",
    "for directory, subdirectories, files in os.walk(root_dir):\n",
    "    for file in files:\n",
    "        try:\n",
    "            print str(os.path.join(directory, file))\n",
    "            sentiments = articleToSentiment(os.path.join(directory, file))\n",
    "            print sentiments\n",
    "        except:  \n",
    "            print(\"Unexpected error:\", sys.exc_info()[0])\n",
    "            pass\n",
    "     "
   ]
  },
  {
   "cell_type": "code",
   "execution_count": 26,
   "metadata": {
    "collapsed": false
   },
   "outputs": [
    {
     "name": "stdout",
     "output_type": "stream",
     "text": [
      "compound: 0.9996, \n",
      "neg: 0.087, \n",
      "neu: 0.803, \n",
      "pos: 0.11, \n"
     ]
    }
   ],
   "source": [
    "# Basic Test For Single Article\n",
    "\n",
    "ss = articleToSentiment('./Factiva/Korean/Factiva-20160528-2249.rtf')\n",
    "for k in sorted(ss):\n",
    "    print('{0}: {1}, '.format(k, ss[k]))"
   ]
  },
  {
   "cell_type": "code",
   "execution_count": null,
   "metadata": {
    "collapsed": true
   },
   "outputs": [],
   "source": [
    "# Code to deal with .docx files.\n",
    "\n",
    "# document = docx.Document('Sample.docx')\n",
    "# doc = '\\n\\n'.join([\n",
    "#     paragraph.text.encode('utf-8') for paragraph in document.paragraphs\n",
    "# #       paragraph.text for paragraph in document.paragraphs\n",
    "# ])"
   ]
  }
 ],
 "metadata": {
  "kernelspec": {
   "display_name": "Python 2",
   "language": "python",
   "name": "python2"
  },
  "language_info": {
   "codemirror_mode": {
    "name": "ipython",
    "version": 2
   },
   "file_extension": ".py",
   "mimetype": "text/x-python",
   "name": "python",
   "nbconvert_exporter": "python",
   "pygments_lexer": "ipython2",
   "version": "2.7.10"
  }
 },
 "nbformat": 4,
 "nbformat_minor": 0
}
